{
 "cells": [
  {
   "cell_type": "code",
   "execution_count": null,
   "id": "bdd6e572-c2f0-42ce-87f0-9b3b115fca9f",
   "metadata": {},
   "outputs": [],
   "source": [
    "Partie 1 : Introduction  à la programmation -> 17\n",
    "Partie 2 : Décision -> 44\n",
    "Partie 3 : Répétition -> 72\n",
    "Partie 4 : Fonction -> 85"
   ]
  },
  {
   "cell_type": "markdown",
   "id": "0ec5637a-d3c1-46de-b471-25351a0e31ac",
   "metadata": {},
   "source": [
    "Exercice 1: mailing adress"
   ]
  },
  {
   "cell_type": "code",
   "execution_count": 9,
   "id": "9cf9fc1a-5295-4bd3-986f-8701f3cde982",
   "metadata": {},
   "outputs": [
    {
     "name": "stdout",
     "output_type": "stream",
     "text": [
      "Isabelle Renard\n",
      "Rue Arthur Graff\n",
      "67600 Selestat\n"
     ]
    }
   ],
   "source": [
    "print ( \"Isabelle Renard\")\n",
    "print (\"Rue Arthur Graff\")\n",
    "print(\"67600 Selestat\")"
   ]
  },
  {
   "cell_type": "markdown",
   "id": "2c5c29f8-89a5-4a08-a9f1-3a8b6d991b25",
   "metadata": {},
   "source": [
    "Exercice 2: Hello"
   ]
  },
  {
   "cell_type": "code",
   "execution_count": 7,
   "id": "74d7b2bc-0aee-4883-b4ec-9fd345580bd3",
   "metadata": {},
   "outputs": [
    {
     "name": "stdin",
     "output_type": "stream",
     "text": [
      "Entrer votre nom: Isabelle\n"
     ]
    },
    {
     "name": "stdout",
     "output_type": "stream",
     "text": [
      "Hello Isabelle\n"
     ]
    }
   ],
   "source": [
    "name= input(\"Entrer votre nom:\")\n",
    "print (\"Hello\",name)"
   ]
  },
  {
   "cell_type": "markdown",
   "id": "9a355b86-4077-4995-88ac-bcf5708db323",
   "metadata": {},
   "source": [
    "Exercice 3: Area of a room"
   ]
  },
  {
   "cell_type": "code",
   "execution_count": 15,
   "id": "b5ddc941-33b4-4fca-8a79-5b0741d7a23a",
   "metadata": {},
   "outputs": [
    {
     "name": "stdin",
     "output_type": "stream",
     "text": [
      "Quelle est la longueur en m: 23\n",
      "Quelle est la largeur en m 12\n"
     ]
    },
    {
     "name": "stdout",
     "output_type": "stream",
     "text": [
      "la surface est de 276.0 m2\n"
     ]
    }
   ],
   "source": [
    "longueur = float(input(\"Quelle est la longueur en m:\"))\n",
    "largeur = float(input(\"Quelle est la largeur en m\"))\n",
    "print(\"la surface est de\", longueur * largeur,\"m2\")\n"
   ]
  },
  {
   "cell_type": "markdown",
   "id": "72a1f1dc-c1c3-4712-aa06-12c07808be86",
   "metadata": {},
   "source": [
    "Exercice 4: Area of a field"
   ]
  },
  {
   "cell_type": "code",
   "execution_count": 1,
   "id": "3265c074-4093-4b3d-98ee-9ebbcbce0148",
   "metadata": {},
   "outputs": [
    {
     "name": "stdin",
     "output_type": "stream",
     "text": [
      "Quelle est la longueur en feet: 45\n",
      "Quelle est la largeur en feet: 67\n"
     ]
    },
    {
     "name": "stdout",
     "output_type": "stream",
     "text": [
      "la surface est de 0.07  en acre\n"
     ]
    }
   ],
   "source": [
    "longueur = float(input(\"Quelle est la longueur en feet:\"))\n",
    "largeur = float(input(\"Quelle est la largeur en feet:\"))\n",
    "surface = (longueur * largeur)/43560\n",
    "print(\"la surface est de\",\"%.2f \"%surface,\"en acre\")"
   ]
  },
  {
   "cell_type": "markdown",
   "id": "2f1b4145-8a49-404c-a38b-5c010b8b08a2",
   "metadata": {},
   "source": [
    "Exercice 5: Bottle Deposits"
   ]
  },
  {
   "cell_type": "code",
   "execution_count": 40,
   "id": "b914d024-2a2a-49b4-b680-d2fffc929a41",
   "metadata": {},
   "outputs": [
    {
     "name": "stdin",
     "output_type": "stream",
     "text": [
      "Entrer le nombre de petites bouteilles: 23\n",
      "Entrer le nombre de grandes bouteilles: 24\n"
     ]
    },
    {
     "name": "stdout",
     "output_type": "stream",
     "text": [
      "Le montant s'élève à 8.30 $\n"
     ]
    }
   ],
   "source": [
    "petite_bouteille = int(input(\"Entrer le nombre de petites bouteilles:\"))\n",
    "grande_bouteille = int(input(\"Entrer le nombre de grandes bouteilles:\"))\n",
    "consigne_1 = 0.1\n",
    "consigne_2 = 0.25\n",
    "retour = petite_bouteille *consigne_1 + grande_bouteille *consigne_2\n",
    "print(\"Le montant s'élève à\",\"%.2f\"%retour,\"$\")"
   ]
  },
  {
   "cell_type": "markdown",
   "id": "b2ec4c99-1ea0-4436-8bef-f4b536963e17",
   "metadata": {},
   "source": [
    "Exercice 6: Tax and Tip"
   ]
  },
  {
   "cell_type": "code",
   "execution_count": 3,
   "id": "be5d8e57-439b-45b9-9e7a-70cd7a518cc0",
   "metadata": {},
   "outputs": [
    {
     "name": "stdin",
     "output_type": "stream",
     "text": [
      " Entrer le prix du repas: 45\n"
     ]
    },
    {
     "name": "stdout",
     "output_type": "stream",
     "text": [
      "la TVA est de: 9.00 €\n",
      "le TIP est de: 2.25 €\n",
      "le total du repas est de: 56.25 €\n"
     ]
    }
   ],
   "source": [
    "repas = float(input(\" Entrer le prix du repas:\"))\n",
    "TVA = 0.2\n",
    "TIP = 0.05\n",
    "montant_TVA = repas * TVA \n",
    "montant_TIP = repas * TIP \n",
    "total = repas + montant_TVA + montant_TIP \n",
    "print(\"la TVA est de:\",\"%.2f\"%montant_TVA,\"€\")\n",
    "print(\"le TIP est de:\",\"%.2f\"%montant_TIP,\"€\")\n",
    "print(\"le total du repas est de:\",\"%.2f\"%total,\"€\")"
   ]
  },
  {
   "cell_type": "markdown",
   "id": "520f09af-9be3-4612-9912-08da082f0a0e",
   "metadata": {},
   "source": [
    "Exercice 7: Sum of the first n Poistive Integers"
   ]
  },
  {
   "cell_type": "code",
   "execution_count": 58,
   "id": "725f3276-77b1-406b-b2fd-f3120a36edae",
   "metadata": {},
   "outputs": [
    {
     "name": "stdin",
     "output_type": "stream",
     "text": [
      "Entrer un nombre entier positif: 34\n"
     ]
    },
    {
     "name": "stdout",
     "output_type": "stream",
     "text": [
      "la somme est: 595\n"
     ]
    }
   ],
   "source": [
    "n = int(input(\"Entrer un nombre entier positif:\"))\n",
    "sum =int( n * (n + 1)/2)\n",
    "print (\"la somme est:\", sum)"
   ]
  },
  {
   "cell_type": "markdown",
   "id": "70570786-b132-4e81-9a56-9f0acacfd9cf",
   "metadata": {},
   "source": [
    "Exercice 8 : Widgets and Gizmos"
   ]
  },
  {
   "cell_type": "code",
   "execution_count": 68,
   "id": "e07a4d96-edc9-4157-bb59-a04fc370cf6f",
   "metadata": {},
   "outputs": [
    {
     "name": "stdin",
     "output_type": "stream",
     "text": [
      "Entrer le nombre de widget: 5\n",
      "Entrer le nombre de gizmo: 6\n"
     ]
    },
    {
     "name": "stdout",
     "output_type": "stream",
     "text": [
      "Le poids des widgets est de: 375 g\n",
      "Le poids des gizmos est de: 450 g\n"
     ]
    }
   ],
   "source": [
    "widget = 75\n",
    "gizmo = 112\n",
    "nb_widget = int(input(\"Entrer le nombre de widget:\"))\n",
    "nb_gizmo = int(input(\"Entrer le nombre de gizmo:\"))\n",
    "poids_widget = widget * nb_widget \n",
    "poids_gizmo = widget * nb_gizmo\n",
    "print(\"Le poids des widgets est de:\",poids_widget,\"g\")\n",
    "print(\"Le poids des gizmos est de:\",poids_gizmo,\"g\")"
   ]
  },
  {
   "cell_type": "markdown",
   "id": "7ccc671c-9107-41c2-a5b3-b3856e696e5f",
   "metadata": {},
   "source": [
    "Exercice 9: Compound Interest"
   ]
  },
  {
   "cell_type": "code",
   "execution_count": 108,
   "id": "16e21bf5-c80d-4cb5-92cc-aa3ff475ffdc",
   "metadata": {},
   "outputs": [
    {
     "name": "stdin",
     "output_type": "stream",
     "text": [
      "Entrer le montant du compte courant en € 5900\n"
     ]
    },
    {
     "name": "stdout",
     "output_type": "stream",
     "text": [
      "le montant du compte courrant après 1 an est de: 6136.00 €\n",
      "le montant du compte courrant après 2 an est de: 6381.44 €\n",
      "le montant du compte courrant après 3 an est de: 6636.70 €\n"
     ]
    }
   ],
   "source": [
    "interet = 4\n",
    "compte_courant = float(input(\"Entrer le montant du compte courant en €\"))\n",
    "compte_courant_1 = compte_courant + (compte_courant * interet/100)\n",
    "compte_courant_2 = compte_courant_1 + (compte_courant_1 * interet/100)\n",
    "compte_courant_3 = compte_courant_2 + (compte_courant_2 * interet/100)\n",
    "print(\"le montant du compte courrant après 1 an est de:\",\"%.2f\"%compte_courant_1, \"€\")\n",
    "print(\"le montant du compte courrant après 2 an est de:\",\"%.2f\"%compte_courant_2, \"€\")\n",
    "print(\"le montant du compte courrant après 3 an est de:\",\"%.2f\"%compte_courant_3, \"€\")"
   ]
  },
  {
   "cell_type": "markdown",
   "id": "34f3e277-7a98-4682-850d-db73fb1db845",
   "metadata": {},
   "source": [
    "Exercice 10: Arithmetic"
   ]
  },
  {
   "cell_type": "code",
   "execution_count": 5,
   "id": "a64969e0-351d-417c-b0dd-0cdb79edfbb5",
   "metadata": {
    "scrolled": true
   },
   "outputs": [
    {
     "name": "stdin",
     "output_type": "stream",
     "text": [
      "Entrer un premier nombre entier: 6\n",
      "Entrer un second nombre entier: 9\n"
     ]
    },
    {
     "name": "stdout",
     "output_type": "stream",
     "text": [
      "la somme est: 15\n",
      "la difference est: 3\n",
      "le produit est: 54\n",
      "le quotient est: 0.67\n",
      "le reste est : 6\n",
      "le resultat de log a est: 0.78\n",
      "le resultat de a puissance est: 10077696\n"
     ]
    }
   ],
   "source": [
    "from math import log10\n",
    "a = int(input(\"Entrer un premier nombre entier:\"))\n",
    "b = int(input(\"Entrer un second nombre entier:\"))\n",
    "q = a / b\n",
    "print(\"la somme est:\", a + b)\n",
    "print(\"la difference est:\", b - a)\n",
    "print(\"le produit est:\", a * b)\n",
    "print(\"le quotient est:\", \"%.2f\"%q)\n",
    "print (\"le reste est :\", a % b)\n",
    "print (\"le resultat de log a est:\",\"%.2f\"%log10(a))\n",
    "print(\"le resultat de a puissance est:\", a**b)"
   ]
  },
  {
   "cell_type": "code",
   "execution_count": null,
   "id": "4e34573d-e35e-43dd-aadf-576363dc59d0",
   "metadata": {},
   "outputs": [],
   "source": [
    "Exercice 11: Fuel Efficiency"
   ]
  },
  {
   "cell_type": "markdown",
   "id": "10cd81be-abc4-4208-bfa7-c92201678af9",
   "metadata": {},
   "source": [
    "Exercice 12 : Distance between two points on Earth"
   ]
  },
  {
   "cell_type": "code",
   "execution_count": 35,
   "id": "af8d217e-8ae2-49ed-a0a8-ffd0cdb0a646",
   "metadata": {},
   "outputs": [
    {
     "name": "stdin",
     "output_type": "stream",
     "text": [
      "Entrer la latitude en degrés: 45\n",
      "Entrer la longitude en degrés: 56\n",
      "Entrer la latitude en degrés: 78\n",
      "Entrer la longitude en degrés: 78\n"
     ]
    },
    {
     "name": "stdout",
     "output_type": "stream",
     "text": [
      "la distance entre le point 1 de latitude 45.0 et longitude 56.0 et le point 2 de latitude 78.0 et de longitude78.0 est de 3792.83 km\n"
     ]
    }
   ],
   "source": [
    "from math import *\n",
    "\n",
    "latitude_t1 = float(input(\"Entrer la latitude en degrés:\"))\n",
    "longitude_g1 = float(input(\"Entrer la longitude en degrés:\"))\n",
    "latitude_t2 = float(input(\"Entrer la latitude en degrés:\"))\n",
    "longitude_g2 = float(input(\"Entrer la longitude en degrés:\"))\n",
    "t1 = radians(latitude_t1)\n",
    "g1 = radians(longitude_g1)\n",
    "t2 = radians(latitude_t2)\n",
    "g2 = radians(longitude_g2)\n",
    "distance = 6371.01 * acos(sin(t1) * sin(t2) + cos(t1) * cos(t2) * cos(g1 - g2))\n",
    "print(f\"la distance entre le point 1 de latitude {latitude_t1} et longitude {longitude_g1} et le point 2 de latitude {latitude_t2} et de longitude{longitude_g2} est de{\" %.2f\"%distance} km\")"
   ]
  },
  {
   "cell_type": "code",
   "execution_count": null,
   "id": "ebd758b3-5bcc-4d96-afae-a8f8d0e11c53",
   "metadata": {},
   "outputs": [],
   "source": [
    "Exercice 14 : Height Units"
   ]
  },
  {
   "cell_type": "code",
   "execution_count": 45,
   "id": "1fa175a9-57c2-41d6-8e46-a04ff291a6d6",
   "metadata": {},
   "outputs": [
    {
     "name": "stdin",
     "output_type": "stream",
     "text": [
      "Entrer le nombre de feet: 3\n",
      "Entrer le nombre d'inches: 4\n"
     ]
    },
    {
     "name": "stdout",
     "output_type": "stream",
     "text": [
      "votre taille est de 101.60cm\n"
     ]
    }
   ],
   "source": [
    "inch = 12 \n",
    "cm= 2.54 \n",
    "feet = int(input(\"Entrer le nombre de feet:\"))\n",
    "inches = int(input(\"Entrer le nombre d'inches:\"))\n",
    "taille = (feet * inch + inches) * cm\n",
    "print(f\"votre taille est de {\"%.2f\"%taille}cm\")\n",
    "           \n",
    "                "
   ]
  },
  {
   "cell_type": "code",
   "execution_count": null,
   "id": "d2d7f548-903c-406d-9ab7-c39534a5029b",
   "metadata": {},
   "outputs": [],
   "source": [
    "Exercice 16 : Area and Volume"
   ]
  },
  {
   "cell_type": "code",
   "execution_count": 53,
   "id": "5f220aa3-1ee5-4a4f-b550-f814b4386ea6",
   "metadata": {},
   "outputs": [
    {
     "name": "stdin",
     "output_type": "stream",
     "text": [
      "Quel est le rayon:  56\n"
     ]
    },
    {
     "name": "stdout",
     "output_type": "stream",
     "text": [
      "la surface est de 9852 et le volume est 735619\n"
     ]
    }
   ],
   "source": [
    "from math import *\n",
    "\n",
    "rayon = float(input(\"Quel est le rayon: \"))\n",
    "area = pi * rayon**2\n",
    "volume = 4 / 3 * pi * rayon**3\n",
    "print(f\"la surface est de {round(area)} et le volume est {round(volume)}\")\n",
    "            "
   ]
  },
  {
   "cell_type": "code",
   "execution_count": null,
   "id": "1801e5c2-79c6-4b3c-b7c5-ee76e45c5923",
   "metadata": {},
   "outputs": [],
   "source": [
    "Exercice 17: Heat Capacity"
   ]
  },
  {
   "cell_type": "code",
   "execution_count": 9,
   "id": "1374f72d-fe3c-4063-ab4a-021f247ba98e",
   "metadata": {},
   "outputs": [
    {
     "name": "stdin",
     "output_type": "stream",
     "text": [
      "Entrer la quantité d'eau: 560\n",
      "Entrer la variation de température: 45\n"
     ]
    },
    {
     "name": "stdout",
     "output_type": "stream",
     "text": [
      "la quantité d'energie requise est 105487.20 J\n",
      "le cout de la chauffe est de 750.29 cent\n"
     ]
    }
   ],
   "source": [
    "capacite_calorifique_eau = 4.186\n",
    "m = float(input(\"Entrer la quantité d'eau:\"))\n",
    "dt = float(input(\"Entrer la variation de température:\"))\n",
    "q = m * capacite_calorifique_eau * dt\n",
    "kwh = 2.77**-7\n",
    "cout = 8.9\n",
    "print(f\"la quantité d'energie requise est {\"%.2f\"%q} J\")\n",
    "tarif = q * kwh * cout\n",
    "print(f\"le cout de la chauffe est de {\"%.2f\"%tarif} cent\")\n",
    "\n",
    "          "
   ]
  },
  {
   "cell_type": "code",
   "execution_count": null,
   "id": "eee5d0f3-67ae-41e0-b019-11101cd55933",
   "metadata": {},
   "outputs": [],
   "source": []
  },
  {
   "cell_type": "code",
   "execution_count": null,
   "id": "2dd2dbee-e061-4792-a5e3-96813a85fd82",
   "metadata": {},
   "outputs": [],
   "source": [
    "Exercice 35: Even or Odd"
   ]
  },
  {
   "cell_type": "code",
   "execution_count": 104,
   "id": "f82a36ba-9fa8-47b1-80f0-b831337d1147",
   "metadata": {},
   "outputs": [
    {
     "name": "stdin",
     "output_type": "stream",
     "text": [
      "Entrer un entier: 7\n"
     ]
    },
    {
     "name": "stdout",
     "output_type": "stream",
     "text": [
      "c'est un nombre impaire\n"
     ]
    }
   ],
   "source": [
    "n = int(input(\"Entrer un entier:\"))\n",
    "if n % 2 == 0:\n",
    "    print(\"c'est un nombre paire\")\n",
    "else:\n",
    "    print(\"c'est un nombre impaire\")\n"
   ]
  },
  {
   "cell_type": "code",
   "execution_count": null,
   "id": "a0d5b15f-f09f-4be6-8581-e2c76077b39a",
   "metadata": {},
   "outputs": [],
   "source": [
    "Exercice 36: Dog Year"
   ]
  },
  {
   "cell_type": "code",
   "execution_count": 13,
   "id": "650a1031-9321-4fe2-810d-4f66b874a609",
   "metadata": {},
   "outputs": [
    {
     "name": "stdin",
     "output_type": "stream",
     "text": [
      "Entrer l'âge du chien 8\n"
     ]
    },
    {
     "name": "stdout",
     "output_type": "stream",
     "text": [
      " le chien a 45 ans\n"
     ]
    }
   ],
   "source": [
    "n =float(input(\"Entrer l'âge du chien\"))\n",
    "\n",
    "if n <= 0:\n",
    "    print( \" C'est une erreur\")    \n",
    "elif 0 < n <= 2:\n",
    "    age_estime = n * 10.5\n",
    "else:\n",
    "    age_estime = 2 * 10.5 + (n-2) * 4\n",
    "print(f\"Le chien a {round(age_estime)} ans\")\n",
    "    \n",
    "    "
   ]
  },
  {
   "cell_type": "code",
   "execution_count": null,
   "id": "e38a2c89-a676-4a2b-8fa7-a39346333b8c",
   "metadata": {},
   "outputs": [],
   "source": [
    "Exercice 37 : Vowel or consonnant"
   ]
  },
  {
   "cell_type": "code",
   "execution_count": 27,
   "id": "e957c8f2-fc17-472a-a159-2f6a8cd3df07",
   "metadata": {},
   "outputs": [
    {
     "name": "stdin",
     "output_type": "stream",
     "text": [
      "Entrer une lettre d\n"
     ]
    },
    {
     "name": "stdout",
     "output_type": "stream",
     "text": [
      "c'est une consonne\n"
     ]
    }
   ],
   "source": [
    "lettre = input(\"Entrer une lettre\")\n",
    "if lettre  == \"a\" or lettre  == \"e\" or lettre == \"i\" or lettre == \"o\" or lettre == \"u\":\n",
    "     print(\"c'est une voyelle\")\n",
    "elif lettre == \"y\":\n",
    "     print(\"c'est parfois une voyelle ou une consonne\")\n",
    "else:\n",
    "    print(\"c'est une consonne\")\n"
   ]
  },
  {
   "cell_type": "code",
   "execution_count": null,
   "id": "3767145a-884b-4e0d-b97e-010fec33bd02",
   "metadata": {},
   "outputs": [],
   "source": [
    "Exercice 38 :  Name that Shape"
   ]
  },
  {
   "cell_type": "code",
   "execution_count": 33,
   "id": "975a8f71-3031-4f90-b74b-19fb00662322",
   "metadata": {},
   "outputs": [
    {
     "name": "stdin",
     "output_type": "stream",
     "text": [
      " Entrer le nombre de côtés 8\n"
     ]
    },
    {
     "name": "stdout",
     "output_type": "stream",
     "text": [
      "c'est un octogone\n"
     ]
    }
   ],
   "source": [
    "cote = int(input(\" Entrer le nombre de côtés\"))\n",
    "forme = \" \"\n",
    "if cote == 3:\n",
    "    forme = \"triangle\"\n",
    "elif cote == 4:\n",
    "    forme = \"carré\"    \n",
    "elif cote == 5:\n",
    "    forme = \"pentagaone\"\n",
    "elif cote == 6:\n",
    "    forme = \"hexagone\"\n",
    "elif cote == 7:\n",
    "    forme = \"heptagone\"\n",
    "elif cote == 8:\n",
    "    forme = \"octogone\"\n",
    "print(\"c'est un\", forme)"
   ]
  },
  {
   "cell_type": "code",
   "execution_count": null,
   "id": "aa665384-bf1a-442a-b0b9-5407a085b942",
   "metadata": {},
   "outputs": [],
   "source": [
    "Exercice  39: Month Name to Number of Days"
   ]
  },
  {
   "cell_type": "code",
   "execution_count": 43,
   "id": "8d305522-a0b5-41fa-97ec-66b48f27ebfa",
   "metadata": {},
   "outputs": [
    {
     "name": "stdin",
     "output_type": "stream",
     "text": [
      "Entrer le mois avril\n"
     ]
    },
    {
     "name": "stdout",
     "output_type": "stream",
     "text": [
      "le mois de avril à 30 jours\n"
     ]
    }
   ],
   "source": [
    "mois = input(\"Entrer le mois\")\n",
    "jours = \" \"\n",
    "if  mois == \"janvier\" or  mois == \"mars\" or mois == \"mai\" or  mois == \"juillet\" or mois == \"aout\" or mois == \"Octobre\" or mois == \"Decembre\":\n",
    "    jours = \"31\"\n",
    "elif mois == \"fevrier\":\n",
    "    jours = \"28 ou 29\"\n",
    "elif mois == \"avril\" or mois == \"juin\" or mois == \"septembre\" or mois == \"novembre\":\n",
    "    jours = \"30\"\n",
    "\n",
    "print(f\"le mois de {mois} à {jours} jours\")"
   ]
  },
  {
   "cell_type": "code",
   "execution_count": null,
   "id": "7154939f-6d34-4453-9713-60f2898cb00c",
   "metadata": {},
   "outputs": [],
   "source": [
    "Exercice 40 : SOund Levels"
   ]
  },
  {
   "cell_type": "code",
   "execution_count": 65,
   "id": "ecb36eee-78b3-4db9-915e-143bc1119397",
   "metadata": {},
   "outputs": [
    {
     "name": "stdin",
     "output_type": "stream",
     "text": [
      "Entrer le nombre de décibels: 89\n"
     ]
    },
    {
     "name": "stdout",
     "output_type": "stream",
     "text": [
      " trop bruyant\n"
     ]
    }
   ],
   "source": [
    "db = int(input(\"Entrer le nombre de décibels:\"))\n",
    "level = \" \"\n",
    "if db < 40:\n",
    "    level = \"c'est calme\"\n",
    "elif db == 40 :\n",
    "    level = \"Quiet Room\"\n",
    "elif 40 < db < 70:\n",
    "    level = \" c'est entre Quiet Room et Alarm clock\"\n",
    "elif db == 70:\n",
    "    level = \"Alarm clock\"\n",
    "else:\n",
    "    level = \" trop bruyant\"\n",
    "print(level)"
   ]
  },
  {
   "cell_type": "code",
   "execution_count": null,
   "id": "33017172-c2dc-4d45-98e9-9e9223f6724b",
   "metadata": {},
   "outputs": [],
   "source": [
    "Exercise 41 : Classifying Triangles"
   ]
  },
  {
   "cell_type": "code",
   "execution_count": 11,
   "id": "35d43096-1109-41fc-92d2-15be7aa8c433",
   "metadata": {},
   "outputs": [
    {
     "name": "stdin",
     "output_type": "stream",
     "text": [
      "Entrer la longueur du premier côté: 4\n",
      "Entrer la longueur du deuxième côté: 8\n",
      "Entrer la longueur du troisième côté: 8\n"
     ]
    },
    {
     "name": "stdout",
     "output_type": "stream",
     "text": [
      "le triangle est un triangle isocele\n"
     ]
    }
   ],
   "source": [
    "cote_1 = float(input(\"Entrer la longueur du premier côté:\"))\n",
    "cote_2 = float(input(\"Entrer la longueur du deuxième côté:\"))\n",
    "cote_3 = float(input(\"Entrer la longueur du troisième côté:\"))\n",
    "forme = \" \" \n",
    "if cote_1 != cote_2 != cote_3 :\n",
    "    forme = \"scalene\"\n",
    "elif cote_1 == cote_2 == cote_3:\n",
    "    forme = \"equilateral\"\n",
    "else:\n",
    "    forme = \"isocele\"\n",
    "print (f\"le triangle est un triangle {forme}\")"
   ]
  },
  {
   "cell_type": "code",
   "execution_count": null,
   "id": "a8c0aa2a-e386-4b44-99d6-609cbeb30307",
   "metadata": {},
   "outputs": [],
   "source": [
    "Exercice 42 : Fréquence des notes"
   ]
  },
  {
   "cell_type": "code",
   "execution_count": null,
   "id": "5bac2425-221d-4843-8f23-805d5481ad25",
   "metadata": {},
   "outputs": [],
   "source": [
    "Exercice 44 : Faces on money"
   ]
  },
  {
   "cell_type": "code",
   "execution_count": 15,
   "id": "c6833d12-52ed-4a54-b05c-e0f50d06ed47",
   "metadata": {},
   "outputs": [
    {
     "name": "stdin",
     "output_type": "stream",
     "text": [
      "Entrer la valeur du billet 100\n"
     ]
    },
    {
     "name": "stdout",
     "output_type": "stream",
     "text": [
      "B. Franklin\n"
     ]
    }
   ],
   "source": [
    "valeur =int(input(\"Entrer la valeur du billet\"))\n",
    "designation = \" \"\n",
    "if valeur == 1 :\n",
    "    print(\"G. Washington\")\n",
    "elif  valeur == 2 :\n",
    "    print(\"T. Jefferson\")\n",
    "elif  valeur == 5 :\n",
    "    print(\"A. Lincoln\")\n",
    "elif  valeur == 10 :\n",
    "    print(\"A. Hamilton\")\n",
    "elif  valeur == 20 :\n",
    "    print(\"A. Jackson\")\n",
    "elif  valeur == 50 :\n",
    "    print(\"U. Grant\")\n",
    "elif  valeur == 100 :\n",
    "    print(\"B. Franklin\")\n",
    "else:\n",
    "    print(\"Le billet n'existe pas\")\n",
    "\n"
   ]
  },
  {
   "cell_type": "code",
   "execution_count": null,
   "id": "957287a0-8448-4147-b529-7fd204601f1c",
   "metadata": {},
   "outputs": [],
   "source": []
  },
  {
   "cell_type": "code",
   "execution_count": null,
   "id": "7f1a943f-aba7-437c-b52c-293be68e4fbf",
   "metadata": {},
   "outputs": [],
   "source": [
    "Exercise 45 : Date to holiday Name"
   ]
  },
  {
   "cell_type": "code",
   "execution_count": 83,
   "id": "3f94179e-8892-4cfb-8b2e-b4c4e685ee38",
   "metadata": {},
   "outputs": [
    {
     "name": "stdin",
     "output_type": "stream",
     "text": [
      "Entrer un jour et un mois: 8 avril\n"
     ]
    },
    {
     "name": "stdout",
     "output_type": "stream",
     "text": [
      "Ce n'est pas un jour férié\n"
     ]
    }
   ],
   "source": [
    "jour = input(\"Entrer un jour et un mois:\")\n",
    "date = \" \"\n",
    "if jour == \"1 janvier\":\n",
    "    date = \"nouvelle année\"\n",
    "elif jour == \"1 juillet\":\n",
    "    date = \"Canada Day\"\n",
    "elif jour == \"25 Decembre\":\n",
    "    date = \"Noel\"\n",
    "else:\n",
    "    date = \"Ce n'est pas un jour férié\"   \n",
    "print(date)"
   ]
  },
  {
   "cell_type": "code",
   "execution_count": null,
   "id": "e119b5be-d391-4412-864d-1adbcaa3294e",
   "metadata": {},
   "outputs": [],
   "source": [
    "Exercice 46 : What Color is That square"
   ]
  },
  {
   "cell_type": "code",
   "execution_count": 110,
   "id": "1e7fe098-fff2-4472-b3cc-ebc23881cadf",
   "metadata": {},
   "outputs": [
    {
     "name": "stdin",
     "output_type": "stream",
     "text": [
      "Entrer le n° de la ligne 2\n",
      "Entrer la lette de la colonne b\n"
     ]
    },
    {
     "name": "stdout",
     "output_type": "stream",
     "text": [
      "noir\n"
     ]
    }
   ],
   "source": [
    "ligne =int( input(\"Entrer le n° de la ligne\"))\n",
    "colonne = input(\"Entrer la lette de la colonne\")\n",
    "c1 = \" \"\n",
    "case = \" \"\n",
    "if colonne == \"a\" or colonne == \"c\" or colonne == \"e\" or colonne == \"g\":\n",
    "    c1 = \"noir\"\n",
    "    if ligne % 2 == 0:\n",
    "        case = \"blanc\"\n",
    "    else:\n",
    "        case = \"noir\"\n",
    "else:\n",
    "    c1 = \"blanc\"\n",
    "    if ligne % 2 == 0:\n",
    "        case = \"noir\"\n",
    "    else:\n",
    "        case = \"blanc\"\n",
    "print(case)\n",
    "\n",
    "            \n",
    "    \n"
   ]
  },
  {
   "cell_type": "code",
   "execution_count": null,
   "id": "9b62b565-ca07-4ac6-82c1-f42236976974",
   "metadata": {},
   "outputs": [],
   "source": [
    "Exercice  47 : Season from month and day"
   ]
  },
  {
   "cell_type": "code",
   "execution_count": 140,
   "id": "40af3abd-5bda-4545-a838-9483166d60c4",
   "metadata": {},
   "outputs": [
    {
     "name": "stdin",
     "output_type": "stream",
     "text": [
      "Entrer le mois: juin\n",
      "Entrer le jour: 26\n"
     ]
    },
    {
     "name": "stdout",
     "output_type": "stream",
     "text": [
      "été\n"
     ]
    }
   ],
   "source": [
    "mois = input(\"Entrer le mois:\")\n",
    "jour = int(input(\"Entrer le jour:\"))\n",
    "saison = \" \"\n",
    "if mois == \"janvier\"  or mois  == \"fevrier\"  or (mois == \"mars\" and jour < 20):\n",
    "    saison = \"hiver\"\n",
    "elif (mois == \"mars\" and jour >= 20) or mois == \"avril\" or mois == \"mai\" or (mois == \"juin\" and jour < 21):\n",
    "    saison = \"printemps\"\n",
    "   \n",
    "elif (mois == \"juin\" and jour >= 21) or mois == \"juillet\" or mois == \"aout\" or( mois == \"septembre\" and jour < 22):\n",
    "    saison = \"été\"\n",
    "\n",
    "elif ( mois == \"septembre\" and jour >= 22) or mois == \"octobre\" or mois == \"novembre\" or( mois == \"decembre\" and jour < 21):\n",
    "    saison = \"automne\"\n",
    "else:\n",
    "    saison = \"hiver\"\n",
    "        \n",
    "print(saison)\n"
   ]
  },
  {
   "cell_type": "code",
   "execution_count": null,
   "id": "495ab46f-f3fd-4846-8f32-95ed03b67008",
   "metadata": {},
   "outputs": [],
   "source": [
    "Exercice 48 : birth date to astrological Sign -> à finir\n"
   ]
  },
  {
   "cell_type": "code",
   "execution_count": null,
   "id": "36dc410d-3ef7-437d-a00e-7149cfc7aec6",
   "metadata": {},
   "outputs": [],
   "source": [
    "mois = input(\"Entrer le mois de naissance:\")\n",
    "jour = int(input(\"Entrer le jour de naissance\"))\n",
    "\n",
    "signe = \" \"\n",
    "if (mois == \"decembre\" and jour > 21) or (mois == \"janvier\" and jour <20):\n",
    "    signe = \"capricorne\"\n",
    "elif (mois == \"janvier\" and jour > 19) or (mois == \"fevrier\" and jour <19):\n",
    "    signe = \"verseau\"\n",
    "elif (mois == \"fevrier\" and jour > 18) or (mois == \"mars\" and jour <21):\n",
    "    signe = \"poisson\"\n",
    "elif (mois == \"mars\" and jour > 21) or (mois == \"avril\" and jour <18):\n",
    "    signe = \"bélier\"\n",
    "elif (mois == \"avril\" and jour > 20) or (mois == \"mai\" and jour <21):\n",
    "    signe = \"Taureau\"\n",
    "elif (mois == \"mai\" and jour > 20) or (mois == \"juin\" and jour <21):\n",
    "    signe = \"gémeaux\"\n",
    "elif (mois == \"juin\" and jour > 20) or (mois == \"juillet\" and jour <23):\n",
    "    signe = \"gémeaux\"\n"
   ]
  },
  {
   "cell_type": "code",
   "execution_count": null,
   "id": "fd2e009f-8c10-46eb-8741-d905a8b46c7e",
   "metadata": {},
   "outputs": [],
   "source": [
    "Exercice 63 : Average "
   ]
  },
  {
   "cell_type": "code",
   "execution_count": 15,
   "id": "e42d5fb0-85ff-43b2-90b4-83d0e8418fab",
   "metadata": {},
   "outputs": [
    {
     "name": "stdin",
     "output_type": "stream",
     "text": [
      "Entrer un nombre(0 pour arrêter): 9\n",
      "Entrer un nombre(0 pour arrêter): 8\n",
      "Entrer un nombre(0 pour arrêter): 0\n"
     ]
    },
    {
     "name": "stdout",
     "output_type": "stream",
     "text": [
      "17.0\n"
     ]
    }
   ],
   "source": [
    "x = float(input(\"Entrer un nombre(0 pour arrêter):\"))\n",
    "sum = 0\n",
    "n = 0 \n",
    "while x != 0 :\n",
    "    sum = sum + x\n",
    "    n = n + 1\n",
    "    x = float(input(\"Entrer un nombre(0 pour arrêter):\"))\n",
    "avg = sum / (n-1)\n",
    "print(avg)\n",
    "\n",
    "       "
   ]
  },
  {
   "cell_type": "code",
   "execution_count": null,
   "id": "05d306fe-502c-4f7f-883d-2eaf3e38c0ca",
   "metadata": {},
   "outputs": [],
   "source": [
    "Exercice 64:  Discount Table"
   ]
  },
  {
   "cell_type": "code",
   "execution_count": 9,
   "id": "462b6acf-86f3-41e5-a968-a2c289af9fb8",
   "metadata": {},
   "outputs": [
    {
     "name": "stdout",
     "output_type": "stream",
     "text": [
      " prix original       remise     prix final\n",
      "      4.95             2.97        1.98 \n",
      "      9.95             5.97        3.98 \n",
      "     14.95             8.97        5.98 \n",
      "     19.95            11.97        7.98 \n",
      "     24.95            14.97        9.98 \n"
     ]
    }
   ],
   "source": [
    "prix_original = [4.95, 9.95, 14.95, 19.95, 24.95]\n",
    "rabais = 0.6\n",
    "print (\" prix original     \",\" remise    \", \"prix final\")\n",
    "for i in prix_original:\n",
    "    discount = i * rabais\n",
    "    prix_discount = i - discount\n",
    "    print (\"%10.2f   %14.2f   %9.2f \"%(i,discount,prix_discount))"
   ]
  },
  {
   "cell_type": "code",
   "execution_count": null,
   "id": "d764bf17-2b08-4b6c-9d5f-40314b6e1dc8",
   "metadata": {},
   "outputs": [],
   "source": [
    "Exercice 65 : table de conversion de températures"
   ]
  },
  {
   "cell_type": "code",
   "execution_count": 60,
   "id": "6471e3d3-ff85-46a8-9b43-2a3d0bfa2bb7",
   "metadata": {},
   "outputs": [
    {
     "name": "stdout",
     "output_type": "stream",
     "text": [
      " T °C       T °F    \n",
      "  0.00    32.00 \n",
      " 10.00    50.00 \n",
      " 20.00    68.00 \n",
      " 30.00    86.00 \n",
      " 40.00   104.00 \n",
      " 50.00   122.00 \n",
      " 60.00   140.00 \n",
      " 70.00   158.00 \n",
      " 80.00   176.00 \n",
      " 90.00   194.00 \n",
      "100.00   212.00 \n"
     ]
    }
   ],
   "source": [
    "temp_C = [0, 10, 20, 30 , 40, 50, 60, 70, 80, 90, 100]\n",
    "print (\" T °C     \",\" T °F    \")\n",
    "for i in temp_C:\n",
    "    F = (i*9/5) + 32\n",
    "    print (\"%6.2f   %6.2f \"%(i,F))\n",
    "    "
   ]
  },
  {
   "cell_type": "code",
   "execution_count": null,
   "id": "f4caf0b7-b3dd-4e2f-ad64-cf5466db88e1",
   "metadata": {},
   "outputs": [],
   "source": [
    "Exercice 66: No more pennies-> à finir"
   ]
  },
  {
   "cell_type": "code",
   "execution_count": 17,
   "id": "3e65edcb-96fd-494c-8e75-2894557167aa",
   "metadata": {},
   "outputs": [
    {
     "name": "stdin",
     "output_type": "stream",
     "text": [
      "Entrer le prix d'un article: 8.89\n",
      "Entrer le prix d'un article: 5.63\n",
      "Entrer le prix d'un article: 2.45\n",
      "Entrer le prix d'un article:  \n"
     ]
    },
    {
     "name": "stdout",
     "output_type": "stream",
     "text": [
      "16.97\n",
      "0.97\n"
     ]
    }
   ],
   "source": [
    "prix = input(\"Entrer le prix d'un article:\")\n",
    "total = 0\n",
    "while prix != \" \":\n",
    "    prix = float(prix)\n",
    "    total = total + prix\n",
    "    prix = input(\"Entrer le prix d'un article:\")\n",
    "print (total)\n",
    "penny = total - int(total)\n",
    "if penny % 5 = 0:\n",
    "    print( total)\n",
    "elif penny\n",
    "else:\n",
    "    cent = elif penny / 5 > 2.5 :\n",
    "    \n",
    "    \n",
    "print(\"%.2f\"%penny)"
   ]
  },
  {
   "cell_type": "code",
   "execution_count": null,
   "id": "b242fe97-9e00-44c1-b896-ce34173d76c0",
   "metadata": {},
   "outputs": [],
   "source": [
    "Exercice 67 : Compute the perimeter of a Polygon"
   ]
  },
  {
   "cell_type": "code",
   "execution_count": 25,
   "id": "7bb36ad7-e0b4-4219-84e3-fc30ad814337",
   "metadata": {},
   "outputs": [
    {
     "name": "stdin",
     "output_type": "stream",
     "text": [
      "Entrer la première coordonnée X: 0\n",
      "Entrer la première coordonées Y: 0\n",
      "Entrer la prochaine coordonnée X ( Espace pour stopper): 1\n",
      "Entrer la prochaine coordonnée Y ( Espace pour stopper): 0\n",
      "Entrer la prochaine coordonnée X ( Espace pour stopper): 0\n",
      "Entrer la prochaine coordonnée Y ( Espace pour stopper): 1\n",
      "Entrer la prochaine coordonnée X ( Espace pour stopper):  \n"
     ]
    },
    {
     "name": "stdout",
     "output_type": "stream",
     "text": [
      " Le périmère du polygone est: 3.0\n"
     ]
    }
   ],
   "source": [
    "from math import *\n",
    "\n",
    "perimetre = 0\n",
    "# premières coordonnées\n",
    "x1 = float(input(\"Entrer la première coordonnée X:\"))\n",
    "y1 = float(input(\"Entrer la première coordonées Y:\"))\n",
    "\n",
    "#Initialisation des coordonnées\n",
    "coordonnee_x = x1\n",
    "coordonnee_y = y1\n",
    "\n",
    "#calcul des coordonnées suivantes\n",
    "question = (input(\"Entrer la prochaine coordonnée X ( Espace pour stopper):\"))\n",
    "while question != \" \":\n",
    "    x = float(question)\n",
    "    y = float(input(\"Entrer la prochaine coordonnée Y ( Espace pour stopper):\"))\n",
    "    distance = sqrt((coordonnee_x - x)**2 + (coordonnee_y)**2)\n",
    "    perimetre = perimetre + distance\n",
    "    coordonnee_x =  x\n",
    "    coordonnee_y =  y\n",
    "    question = input(\"Entrer la prochaine coordonnée X ( Espace pour stopper):\")\n",
    "distance = sqrt((x1 - x)**2 + (y1-y)**2)\n",
    "perimetre =  perimetre = perimetre + distance\n",
    "print( \" Le périmère du polygone est:\", perimetre)\n",
    "\n",
    "\n",
    "\n",
    "\n"
   ]
  },
  {
   "cell_type": "code",
   "execution_count": null,
   "id": "0f1648e0-2a63-455f-a9ef-d5173db3ed97",
   "metadata": {},
   "outputs": [],
   "source": [
    "Exercice 69 : Admission price"
   ]
  },
  {
   "cell_type": "code",
   "execution_count": 1,
   "id": "9cfd78a3-53d2-4ffd-9364-0d555d5cf07f",
   "metadata": {},
   "outputs": [
    {
     "name": "stdin",
     "output_type": "stream",
     "text": [
      " Entrer votre âge: 1\n",
      " Entrer votre âge: 5\n",
      " Entrer votre âge: 18\n",
      " Entrer votre âge: 69\n",
      " Entrer votre âge:  \n"
     ]
    },
    {
     "name": "stdout",
     "output_type": "stream",
     "text": [
      "le montant total est de 55.00 €\n"
     ]
    }
   ],
   "source": [
    "#prix des places\n",
    "prix_bb = 0\n",
    "prix_enfant = 14\n",
    "prix_adulte = 23\n",
    "prix_senior = 18\n",
    "\n",
    "# initialisation du nombre de places\n",
    "nbb = 0\n",
    "nenf = 0\n",
    "nsen = 0\n",
    "nadu = 0\n",
    "\n",
    "#initialisation du prix\n",
    "prix_entree = 0\n",
    "\n",
    "#age des visiteurs\n",
    "age = input(\" Entrer votre âge:\")\n",
    "while age != \" \":\n",
    "    annee = float(age)\n",
    "    if annee <= 2:        \n",
    "        nbb += 1\n",
    "    elif 3 <= annee <= 12:\n",
    "        nenf += 1\n",
    "    elif 15 <= annee <= 64:\n",
    "        nadu +=  1\n",
    "    else:\n",
    "        nsen += 1\n",
    "    age = input(\" Entrer votre âge:\")\n",
    "total = prix_bb * nbb + prix_enfant * nenf + prix_adulte * nadu + prix_senior * nsen\n",
    "print(\"le montant total est de\",\"%.2f\"%(total),\"€\")\n"
   ]
  },
  {
   "cell_type": "code",
   "execution_count": null,
   "id": "a0b2b099-dc42-46b8-8940-f0dd8663861d",
   "metadata": {},
   "outputs": [],
   "source": [
    "Exercice 72 : Fizz-Buzz"
   ]
  },
  {
   "cell_type": "code",
   "execution_count": 29,
   "id": "121a6432-d415-4bbc-ac59-8cd2e82ef943",
   "metadata": {},
   "outputs": [
    {
     "name": "stdout",
     "output_type": "stream",
     "text": [
      "1\n",
      "2\n",
      "3 FIZZ\n",
      "4\n",
      "5 BUZZ\n",
      "6 FIZZ\n",
      "7\n",
      "8\n",
      "9 FIZZ\n",
      "10 BUZZ\n",
      "11\n",
      "12 FIZZ\n",
      "13\n",
      "14\n",
      "15 FIZZ & BUZZ\n",
      "16\n",
      "17\n",
      "18 FIZZ\n",
      "19\n",
      "20 BUZZ\n",
      "21 FIZZ\n",
      "22\n",
      "23\n",
      "24 FIZZ\n",
      "25 BUZZ\n",
      "26\n",
      "27 FIZZ\n",
      "28\n",
      "29\n",
      "30 FIZZ & BUZZ\n",
      "31\n",
      "32\n",
      "33 FIZZ\n",
      "34\n",
      "35 BUZZ\n",
      "36 FIZZ\n",
      "37\n",
      "38\n",
      "39 FIZZ\n",
      "40 BUZZ\n",
      "41\n",
      "42 FIZZ\n",
      "43\n",
      "44\n",
      "45 FIZZ & BUZZ\n",
      "46\n",
      "47\n",
      "48 FIZZ\n",
      "49\n",
      "50 BUZZ\n",
      "51 FIZZ\n",
      "52\n",
      "53\n",
      "54 FIZZ\n",
      "55 BUZZ\n",
      "56\n",
      "57 FIZZ\n",
      "58\n",
      "59\n",
      "60 FIZZ & BUZZ\n",
      "61\n",
      "62\n",
      "63 FIZZ\n",
      "64\n",
      "65 BUZZ\n",
      "66 FIZZ\n",
      "67\n",
      "68\n",
      "69 FIZZ\n",
      "70 BUZZ\n",
      "71\n",
      "72 FIZZ\n",
      "73\n",
      "74\n",
      "75 FIZZ & BUZZ\n",
      "76\n",
      "77\n",
      "78 FIZZ\n",
      "79\n",
      "80 BUZZ\n",
      "81 FIZZ\n",
      "82\n",
      "83\n",
      "84 FIZZ\n",
      "85 BUZZ\n",
      "86\n",
      "87 FIZZ\n",
      "88\n",
      "89\n",
      "90 FIZZ & BUZZ\n",
      "91\n",
      "92\n",
      "93 FIZZ\n",
      "94\n",
      "95 BUZZ\n",
      "96 FIZZ\n",
      "97\n",
      "98\n",
      "99 FIZZ\n",
      "100 BUZZ\n"
     ]
    }
   ],
   "source": [
    "\n",
    "for i in range (1,101):\n",
    "    if i % 3 == 0 and i % 5 == 0:\n",
    "        print(i,\"FIZZ & BUZZ\")\n",
    "    elif i % 3 == 0 :\n",
    "        print(i,\"FIZZ\")\n",
    "    elif i % 5 == 0 :\n",
    "         print(i,\"BUZZ\") \n",
    "    else:\n",
    "        print( i)"
   ]
  },
  {
   "cell_type": "code",
   "execution_count": null,
   "id": "98d77647-bef2-4c9b-87da-6f3d454967c8",
   "metadata": {},
   "outputs": [],
   "source": [
    "Exercice 85 : Compute the Hypothenuse"
   ]
  },
  {
   "cell_type": "code",
   "execution_count": 51,
   "id": "a080985b-4e85-4fd0-999a-28028149f5f4",
   "metadata": {},
   "outputs": [
    {
     "name": "stdin",
     "output_type": "stream",
     "text": [
      "Entrer la longueur du côté adjacent: 9\n",
      "Entrer la longueur du côté opposé: 5\n"
     ]
    },
    {
     "name": "stdout",
     "output_type": "stream",
     "text": [
      "La longueur de l'hypothenuse est 10.30\n"
     ]
    }
   ],
   "source": [
    "from math import *\n",
    "def hypothenuse(cote_adjacent, cote_oppose) :\n",
    "    hypo = sqrt(cote_adjacent ** 2 + cote_oppose**2)\n",
    "    return hypo\n",
    "\n",
    "def main() :\n",
    "    adjacent = int(input(\"Entrer la longueur du côté adjacent:\"))\n",
    "    oppose = int(input(\"Entrer la longueur du côté opposé:\"))\n",
    "    resultat = hypothenuse(adjacent,oppose)\n",
    "    print(f\"La longueur de l'hypothenuse est {\"%.2f\"% resultat}\")\n",
    "main()\n",
    "             \n",
    "    "
   ]
  },
  {
   "cell_type": "code",
   "execution_count": null,
   "id": "61d7f208-4d59-46c7-972d-d01e04fac884",
   "metadata": {},
   "outputs": [],
   "source": [
    "Exercice  110 : Sorted Order"
   ]
  },
  {
   "cell_type": "code",
   "execution_count": 7,
   "id": "8691fc5d-3f14-4b4b-a49e-b1f463e76a40",
   "metadata": {},
   "outputs": [
    {
     "name": "stdin",
     "output_type": "stream",
     "text": [
      "Entrer un entier (0 pour arrêter): 8\n",
      "Entrer un entier (0 pour arrêter): 6\n",
      "Entrer un entier (0 pour arrêter): 9\n",
      "Entrer un entier (0 pour arrêter): 0\n"
     ]
    },
    {
     "name": "stdout",
     "output_type": "stream",
     "text": [
      "6\n",
      "8\n",
      "9\n"
     ]
    }
   ],
   "source": [
    "#Initialisation de la liste\n",
    "data = []\n",
    "#saisie des données\n",
    "n = int(input (\"Entrer un entier (0 pour arrêter):\"))\n",
    "# boucle de saisie\n",
    "while n != 0:\n",
    "    data.append(n)\n",
    "    n = int(input (\"Entrer un entier (0 pour arrêter):\"))\n",
    "# tri des données\n",
    "data.sort()\n",
    "# affichage en ligne\n",
    "for i in data:\n",
    "    print(i)"
   ]
  },
  {
   "cell_type": "code",
   "execution_count": null,
   "id": "eb19734d-5cfb-4e0f-b35e-51de79102970",
   "metadata": {},
   "outputs": [],
   "source": [
    "Exercice 111 : reverse order"
   ]
  },
  {
   "cell_type": "code",
   "execution_count": 9,
   "id": "e136a773-0e93-47ea-83cf-6cf8174b4216",
   "metadata": {},
   "outputs": [
    {
     "name": "stdin",
     "output_type": "stream",
     "text": [
      "Entrer un entier (0 pour arrêter): 9\n",
      "Entrer un entier (0 pour arrêter): 2\n",
      "Entrer un entier (0 pour arrêter): 48\n",
      "Entrer un entier (0 pour arrêter): 0\n"
     ]
    },
    {
     "name": "stdout",
     "output_type": "stream",
     "text": [
      "48\n",
      "2\n",
      "9\n"
     ]
    }
   ],
   "source": [
    "#Initialisation de la liste\n",
    "data = []\n",
    "#saisie des données\n",
    "n = int(input (\"Entrer un entier (0 pour arrêter):\"))\n",
    "# boucle de saisie\n",
    "while n != 0:\n",
    "    data.append(n)\n",
    "    n = int(input (\"Entrer un entier (0 pour arrêter):\"))\n",
    "# tri des données\n",
    "data.reverse()\n",
    "# affichage en ligne\n",
    "for i in data:\n",
    "    print(i)"
   ]
  },
  {
   "cell_type": "code",
   "execution_count": null,
   "id": "4a95fa1e-6656-4916-b694-563505fe985b",
   "metadata": {},
   "outputs": [],
   "source": [
    "Exercice  112 : Remove outliers"
   ]
  },
  {
   "cell_type": "code",
   "execution_count": 72,
   "id": "c727c273-17c1-42ee-8e35-c459309b09d7",
   "metadata": {},
   "outputs": [
    {
     "name": "stdin",
     "output_type": "stream",
     "text": [
      "Entrer un entier (0 pour arrêter): 8\n",
      "Entrer un entier (0 pour arrêter): 6\n"
     ]
    },
    {
     "name": "stdout",
     "output_type": "stream",
     "text": [
      "il faut encore une valeur\n"
     ]
    },
    {
     "name": "stdin",
     "output_type": "stream",
     "text": [
      "Entrer un entier (0 pour arrêter): 5\n"
     ]
    },
    {
     "name": "stdout",
     "output_type": "stream",
     "text": [
      "il faut encore une valeur\n"
     ]
    },
    {
     "name": "stdin",
     "output_type": "stream",
     "text": [
      "Entrer un entier (0 pour arrêter): 2\n"
     ]
    },
    {
     "name": "stdout",
     "output_type": "stream",
     "text": [
      "il faut encore une valeur\n"
     ]
    },
    {
     "name": "stdin",
     "output_type": "stream",
     "text": [
      "Entrer un entier (0 pour arrêter): 3\n",
      "Entrer un entier (0 pour arrêter): 0\n"
     ]
    },
    {
     "name": "stdout",
     "output_type": "stream",
     "text": [
      "[5]\n",
      "[8, 6, 5, 2, 3]\n"
     ]
    }
   ],
   "source": [
    "#Initialisation de la liste\n",
    "data = []\n",
    "nbsaisie = 0\n",
    "#saisie des données\n",
    "n = int(input (\"Entrer un entier (0 pour arrêter):\"))\n",
    "# boucle de saisie\n",
    "while n != 0 :\n",
    "    data.append(n)\n",
    "    n = int(input (\"Entrer un entier (0 pour arrêter):\"))\n",
    "    nbsaisie += 1\n",
    "    if nbsaisie < 4:\n",
    "        print (\"il faut encore une valeur\")\n",
    "#sauvegarde de la liste originale\n",
    "liste_originale = data.copy()\n",
    "#tri des données\n",
    "data.sort()\n",
    "#suppression des données\n",
    "data.pop(0)\n",
    "data.pop(0)\n",
    "data.pop(-1)\n",
    "data.pop(-1)\n",
    "#affichage des listes finale et originale\n",
    "print(data)\n",
    "print(liste_originale)\n"
   ]
  },
  {
   "cell_type": "code",
   "execution_count": null,
   "id": "2b3e82bd-2497-452e-8238-5f3b2ab9496f",
   "metadata": {},
   "outputs": [],
   "source": [
    "Exercice 113: Avoiding Duplicates"
   ]
  },
  {
   "cell_type": "code",
   "execution_count": null,
   "id": "e1126719-69e6-4b62-8a65-693e0c72e563",
   "metadata": {},
   "outputs": [],
   "source": [
    "#initialisation de la liste\n",
    "liste = []\n",
    "nb = 0\n",
    "# saisie des données\n",
    "mot = input(\"Entrer un mot:\")\n",
    "\n",
    "#boucle de saisie\n",
    "while mot != \" \":\n",
    "    liste.append(mot)\n",
    "    mot = input(\"Entrer un mot:\")\n",
    "    nb +=1\n",
    "#sauvegarde de la liste originale\n",
    "liste_originale = liste.copy()\n",
    "print(liste)"
   ]
  },
  {
   "cell_type": "code",
   "execution_count": null,
   "id": "d1ee9e93-f12d-4142-a329-184091797dde",
   "metadata": {},
   "outputs": [],
   "source": [
    "Exercice 145 :  Scrabble Score version 1"
   ]
  },
  {
   "cell_type": "code",
   "execution_count": 9,
   "id": "2ee764c6-3701-4ae4-9522-a691d509d6ed",
   "metadata": {},
   "outputs": [
    {
     "name": "stdin",
     "output_type": "stream",
     "text": [
      "Entrer un mot python\n"
     ]
    },
    {
     "name": "stdout",
     "output_type": "stream",
     "text": [
      "Le mot PYTHON compte pour 14 points\n"
     ]
    }
   ],
   "source": [
    "#création du dictionnaire\n",
    "dico = {\"A\":1,\"B\":3,\"C\":3,\"D\":2,\"E\":1,\"F\":4,\"G\":2,\"H\":4,\"I\":1,\"J\":8,\"K\":5,\"L\":1,\"M\":3,\"N\":1,\"O\":1 ,\"P\":3, \"Q\":10, \"R\":1, \"S\":1, \"T\":1, \"U\":1, \"V\":4, \"W\":4, \"X\":8, \"Y\": 4, \"Z\":10}\n",
    "point = 0\n",
    "# Saisie du mot\n",
    "mot = input(\"Entrer un mot\").upper()\n",
    "#calcul  des points\n",
    "for lettre in mot :\n",
    "    point = point + dico[lettre]\n",
    "print(f\"Le mot {mot} compte pour {point} points\")\n",
    "    \n"
   ]
  },
  {
   "cell_type": "code",
   "execution_count": null,
   "id": "500dccce-ea67-4ada-bb30-30ca148b27f8",
   "metadata": {},
   "outputs": [],
   "source": [
    "Exercice 145 :  Scrabble Score version 2"
   ]
  },
  {
   "cell_type": "code",
   "execution_count": null,
   "id": "da84fa0b-9138-46cb-bad0-dcd438c828c5",
   "metadata": {},
   "outputs": [],
   "source": []
  },
  {
   "cell_type": "code",
   "execution_count": null,
   "id": "7497db39-f98e-4ae5-a65d-6aeb3b48484b",
   "metadata": {},
   "outputs": [],
   "source": []
  }
 ],
 "metadata": {
  "kernelspec": {
   "display_name": "Python 3 (ipykernel)",
   "language": "python",
   "name": "python3"
  },
  "language_info": {
   "codemirror_mode": {
    "name": "ipython",
    "version": 3
   },
   "file_extension": ".py",
   "mimetype": "text/x-python",
   "name": "python",
   "nbconvert_exporter": "python",
   "pygments_lexer": "ipython3",
   "version": "3.12.4"
  }
 },
 "nbformat": 4,
 "nbformat_minor": 5
}
